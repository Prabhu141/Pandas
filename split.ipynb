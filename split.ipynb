{
  "nbformat": 4,
  "nbformat_minor": 0,
  "metadata": {
    "colab": {
      "provenance": [],
      "authorship_tag": "ABX9TyM7CyHiqM2Lxtj9lQBdcAyf",
      "include_colab_link": true
    },
    "kernelspec": {
      "name": "python3",
      "display_name": "Python 3"
    },
    "language_info": {
      "name": "python"
    }
  },
  "cells": [
    {
      "cell_type": "markdown",
      "metadata": {
        "id": "view-in-github",
        "colab_type": "text"
      },
      "source": [
        "<a href=\"https://colab.research.google.com/github/Prabhu141/Pandas/blob/main/split.ipynb\" target=\"_parent\"><img src=\"https://colab.research.google.com/assets/colab-badge.svg\" alt=\"Open In Colab\"/></a>"
      ]
    },
    {
      "cell_type": "code",
      "source": [
        "'''\n",
        "Get IP Address of any website using python\n",
        "Author: Ayushi Rawat\n",
        "'''\n",
        "\n",
        "#Import the necessary packages!\n",
        "import socket as s \n",
        "\n",
        "#get my hostname\n",
        "my_hostname = s.gethostname()\n",
        "#display my hostname\n",
        "print('Your Hostname is: ' + my_hostname)\n",
        "\n",
        "#get my IP\n",
        "my_ip = s.gethostbyname(my_hostname)\n",
        "#display my IP \n",
        "print('Your Ip Address is: ' + my_ip)\n",
        "\n",
        "#set the hostname\n",
        "host = 'desss-portfolio.com'\n",
        "#fetch the IP\n",
        "ip = s.gethostbyname(host)\n",
        "\n",
        "#display the IP\n",
        "print('The IP Address of ' + host + ' is: '  + ip)"
      ],
      "metadata": {
        "colab": {
          "base_uri": "https://localhost:8080/"
        },
        "id": "xBXIDxz5euf7",
        "outputId": "c3ea329d-d80e-480c-d2b7-db47cfd581e4"
      },
      "execution_count": 1,
      "outputs": [
        {
          "output_type": "stream",
          "name": "stdout",
          "text": [
            "Your Hostname is: a47eb1ad4286\n",
            "Your Ip Address is: 172.28.0.2\n",
            "The IP Address of desss-portfolio.com is: 74.208.51.69\n"
          ]
        }
      ]
    },
    {
      "cell_type": "code",
      "source": [
        "import pandas as pd\n",
        "df =pd.read_csv('output.csv')\n",
        "print(df)"
      ],
      "metadata": {
        "colab": {
          "base_uri": "https://localhost:8080/"
        },
        "id": "WdFnGEaxKUTM",
        "outputId": "ffd898b0-a95e-439e-95f4-14c9e328a042"
      },
      "execution_count": 2,
      "outputs": [
        {
          "output_type": "stream",
          "name": "stdout",
          "text": [
            "                           Urls  \\\n",
            "0  https://desss-portfolio.com/   \n",
            "1        https://www.desss.com/   \n",
            "2          http://zunamelt.com/   \n",
            "3         https://zunamelt.com/   \n",
            "4      https://trophydeals.com/   \n",
            "\n",
            "                                         Status_code  \\\n",
            "0                     NOT OK: HTTP response code 403   \n",
            "1                                                 OK   \n",
            "2                                                 OK   \n",
            "3  NOT OK: HTTPSConnectionPool(host='zunamelt.com...   \n",
            "4                                                 OK   \n",
            "\n",
            "                                                 SSL  \\\n",
            "0  https://desss-portfolio.com/ has a valid SSL c...   \n",
            "1  https://www.desss.com/ has a valid SSL certifi...   \n",
            "2  http://zunamelt.com/ has a valid SSL certificate!   \n",
            "3  https://zunamelt.com/ has INVALID SSL certific...   \n",
            "4  https://trophydeals.com/ has a valid SSL certi...   \n",
            "\n",
            "                                         Expiry_date  \n",
            "0  Domain name: desss-portfolio.com Expiry Date: ...  \n",
            "1  Domain name: desss.com Expiry Date: 2023-02-12...  \n",
            "2  Domain name: zunamelt.com Expiry Date: 2022-12...  \n",
            "3  Domain name: zunamelt.com Expiry Date: 2022-12...  \n",
            "4  Domain name: trophydeals.com Expiry Date: 2023...  \n"
          ]
        }
      ]
    },
    {
      "cell_type": "code",
      "source": [
        "df.head()"
      ],
      "metadata": {
        "colab": {
          "base_uri": "https://localhost:8080/",
          "height": 424
        },
        "id": "oBu4rPRKK0OJ",
        "outputId": "1a58f252-e729-46ec-f5c7-6861577547b9"
      },
      "execution_count": 4,
      "outputs": [
        {
          "output_type": "execute_result",
          "data": {
            "text/plain": [
              "                           Urls  \\\n",
              "0  https://desss-portfolio.com/   \n",
              "1        https://www.desss.com/   \n",
              "2          http://zunamelt.com/   \n",
              "3         https://zunamelt.com/   \n",
              "4      https://trophydeals.com/   \n",
              "\n",
              "                                         Status_code  \\\n",
              "0                     NOT OK: HTTP response code 403   \n",
              "1                                                 OK   \n",
              "2                                                 OK   \n",
              "3  NOT OK: HTTPSConnectionPool(host='zunamelt.com...   \n",
              "4                                                 OK   \n",
              "\n",
              "                                                 SSL  \\\n",
              "0  https://desss-portfolio.com/ has a valid SSL c...   \n",
              "1  https://www.desss.com/ has a valid SSL certifi...   \n",
              "2  http://zunamelt.com/ has a valid SSL certificate!   \n",
              "3  https://zunamelt.com/ has INVALID SSL certific...   \n",
              "4  https://trophydeals.com/ has a valid SSL certi...   \n",
              "\n",
              "                                         Expiry_date  \n",
              "0  Domain name: desss-portfolio.com Expiry Date: ...  \n",
              "1  Domain name: desss.com Expiry Date: 2023-02-12...  \n",
              "2  Domain name: zunamelt.com Expiry Date: 2022-12...  \n",
              "3  Domain name: zunamelt.com Expiry Date: 2022-12...  \n",
              "4  Domain name: trophydeals.com Expiry Date: 2023...  "
            ],
            "text/html": [
              "\n",
              "  <div id=\"df-958a904e-5713-4a6d-a32d-a610d9cc868e\">\n",
              "    <div class=\"colab-df-container\">\n",
              "      <div>\n",
              "<style scoped>\n",
              "    .dataframe tbody tr th:only-of-type {\n",
              "        vertical-align: middle;\n",
              "    }\n",
              "\n",
              "    .dataframe tbody tr th {\n",
              "        vertical-align: top;\n",
              "    }\n",
              "\n",
              "    .dataframe thead th {\n",
              "        text-align: right;\n",
              "    }\n",
              "</style>\n",
              "<table border=\"1\" class=\"dataframe\">\n",
              "  <thead>\n",
              "    <tr style=\"text-align: right;\">\n",
              "      <th></th>\n",
              "      <th>Urls</th>\n",
              "      <th>Status_code</th>\n",
              "      <th>SSL</th>\n",
              "      <th>Expiry_date</th>\n",
              "    </tr>\n",
              "  </thead>\n",
              "  <tbody>\n",
              "    <tr>\n",
              "      <th>0</th>\n",
              "      <td>https://desss-portfolio.com/</td>\n",
              "      <td>NOT OK: HTTP response code 403</td>\n",
              "      <td>https://desss-portfolio.com/ has a valid SSL c...</td>\n",
              "      <td>Domain name: desss-portfolio.com Expiry Date: ...</td>\n",
              "    </tr>\n",
              "    <tr>\n",
              "      <th>1</th>\n",
              "      <td>https://www.desss.com/</td>\n",
              "      <td>OK</td>\n",
              "      <td>https://www.desss.com/ has a valid SSL certifi...</td>\n",
              "      <td>Domain name: desss.com Expiry Date: 2023-02-12...</td>\n",
              "    </tr>\n",
              "    <tr>\n",
              "      <th>2</th>\n",
              "      <td>http://zunamelt.com/</td>\n",
              "      <td>OK</td>\n",
              "      <td>http://zunamelt.com/ has a valid SSL certificate!</td>\n",
              "      <td>Domain name: zunamelt.com Expiry Date: 2022-12...</td>\n",
              "    </tr>\n",
              "    <tr>\n",
              "      <th>3</th>\n",
              "      <td>https://zunamelt.com/</td>\n",
              "      <td>NOT OK: HTTPSConnectionPool(host='zunamelt.com...</td>\n",
              "      <td>https://zunamelt.com/ has INVALID SSL certific...</td>\n",
              "      <td>Domain name: zunamelt.com Expiry Date: 2022-12...</td>\n",
              "    </tr>\n",
              "    <tr>\n",
              "      <th>4</th>\n",
              "      <td>https://trophydeals.com/</td>\n",
              "      <td>OK</td>\n",
              "      <td>https://trophydeals.com/ has a valid SSL certi...</td>\n",
              "      <td>Domain name: trophydeals.com Expiry Date: 2023...</td>\n",
              "    </tr>\n",
              "  </tbody>\n",
              "</table>\n",
              "</div>\n",
              "      <button class=\"colab-df-convert\" onclick=\"convertToInteractive('df-958a904e-5713-4a6d-a32d-a610d9cc868e')\"\n",
              "              title=\"Convert this dataframe to an interactive table.\"\n",
              "              style=\"display:none;\">\n",
              "        \n",
              "  <svg xmlns=\"http://www.w3.org/2000/svg\" height=\"24px\"viewBox=\"0 0 24 24\"\n",
              "       width=\"24px\">\n",
              "    <path d=\"M0 0h24v24H0V0z\" fill=\"none\"/>\n",
              "    <path d=\"M18.56 5.44l.94 2.06.94-2.06 2.06-.94-2.06-.94-.94-2.06-.94 2.06-2.06.94zm-11 1L8.5 8.5l.94-2.06 2.06-.94-2.06-.94L8.5 2.5l-.94 2.06-2.06.94zm10 10l.94 2.06.94-2.06 2.06-.94-2.06-.94-.94-2.06-.94 2.06-2.06.94z\"/><path d=\"M17.41 7.96l-1.37-1.37c-.4-.4-.92-.59-1.43-.59-.52 0-1.04.2-1.43.59L10.3 9.45l-7.72 7.72c-.78.78-.78 2.05 0 2.83L4 21.41c.39.39.9.59 1.41.59.51 0 1.02-.2 1.41-.59l7.78-7.78 2.81-2.81c.8-.78.8-2.07 0-2.86zM5.41 20L4 18.59l7.72-7.72 1.47 1.35L5.41 20z\"/>\n",
              "  </svg>\n",
              "      </button>\n",
              "      \n",
              "  <style>\n",
              "    .colab-df-container {\n",
              "      display:flex;\n",
              "      flex-wrap:wrap;\n",
              "      gap: 12px;\n",
              "    }\n",
              "\n",
              "    .colab-df-convert {\n",
              "      background-color: #E8F0FE;\n",
              "      border: none;\n",
              "      border-radius: 50%;\n",
              "      cursor: pointer;\n",
              "      display: none;\n",
              "      fill: #1967D2;\n",
              "      height: 32px;\n",
              "      padding: 0 0 0 0;\n",
              "      width: 32px;\n",
              "    }\n",
              "\n",
              "    .colab-df-convert:hover {\n",
              "      background-color: #E2EBFA;\n",
              "      box-shadow: 0px 1px 2px rgba(60, 64, 67, 0.3), 0px 1px 3px 1px rgba(60, 64, 67, 0.15);\n",
              "      fill: #174EA6;\n",
              "    }\n",
              "\n",
              "    [theme=dark] .colab-df-convert {\n",
              "      background-color: #3B4455;\n",
              "      fill: #D2E3FC;\n",
              "    }\n",
              "\n",
              "    [theme=dark] .colab-df-convert:hover {\n",
              "      background-color: #434B5C;\n",
              "      box-shadow: 0px 1px 3px 1px rgba(0, 0, 0, 0.15);\n",
              "      filter: drop-shadow(0px 1px 2px rgba(0, 0, 0, 0.3));\n",
              "      fill: #FFFFFF;\n",
              "    }\n",
              "  </style>\n",
              "\n",
              "      <script>\n",
              "        const buttonEl =\n",
              "          document.querySelector('#df-958a904e-5713-4a6d-a32d-a610d9cc868e button.colab-df-convert');\n",
              "        buttonEl.style.display =\n",
              "          google.colab.kernel.accessAllowed ? 'block' : 'none';\n",
              "\n",
              "        async function convertToInteractive(key) {\n",
              "          const element = document.querySelector('#df-958a904e-5713-4a6d-a32d-a610d9cc868e');\n",
              "          const dataTable =\n",
              "            await google.colab.kernel.invokeFunction('convertToInteractive',\n",
              "                                                     [key], {});\n",
              "          if (!dataTable) return;\n",
              "\n",
              "          const docLinkHtml = 'Like what you see? Visit the ' +\n",
              "            '<a target=\"_blank\" href=https://colab.research.google.com/notebooks/data_table.ipynb>data table notebook</a>'\n",
              "            + ' to learn more about interactive tables.';\n",
              "          element.innerHTML = '';\n",
              "          dataTable['output_type'] = 'display_data';\n",
              "          await google.colab.output.renderOutput(dataTable, element);\n",
              "          const docLink = document.createElement('div');\n",
              "          docLink.innerHTML = docLinkHtml;\n",
              "          element.appendChild(docLink);\n",
              "        }\n",
              "      </script>\n",
              "    </div>\n",
              "  </div>\n",
              "  "
            ]
          },
          "metadata": {},
          "execution_count": 4
        }
      ]
    },
    {
      "cell_type": "code",
      "source": [
        "df_list = list(df['Expiry_date'])"
      ],
      "metadata": {
        "id": "U173_x2yKUPn"
      },
      "execution_count": 5,
      "outputs": []
    },
    {
      "cell_type": "code",
      "source": [
        "foo = lambda x: pd.Series([i for i in reversed(x.split(' '))])\n",
        "rev = df['Expiry_date'].apply(foo)\n",
        "print (rev)"
      ],
      "metadata": {
        "colab": {
          "base_uri": "https://localhost:8080/"
        },
        "id": "uKmgRONxKUMD",
        "outputId": "96347468-97a0-4795-c8e3-55f6a1bcb786"
      },
      "execution_count": 6,
      "outputs": [
        {
          "output_type": "stream",
          "name": "stdout",
          "text": [
            "     0     1       2           3      4       5                    6      7  \\\n",
            "0   65  Day:  Expiry  2023-01-22  Date:  Expiry  desss-portfolio.com  name:   \n",
            "1   86  Day:  Expiry  2023-02-12  Date:  Expiry            desss.com  name:   \n",
            "2   40  Day:  Expiry  2022-12-28  Date:  Expiry         zunamelt.com  name:   \n",
            "3   40  Day:  Expiry  2022-12-28  Date:  Expiry         zunamelt.com  name:   \n",
            "4  252  Day:  Expiry  2023-07-27  Date:  Expiry      trophydeals.com  name:   \n",
            "\n",
            "        8  \n",
            "0  Domain  \n",
            "1  Domain  \n",
            "2  Domain  \n",
            "3  Domain  \n",
            "4  Domain  \n"
          ]
        }
      ]
    },
    {
      "cell_type": "code",
      "source": [
        "rev.iloc[:,[6,3,0]]"
      ],
      "metadata": {
        "colab": {
          "base_uri": "https://localhost:8080/",
          "height": 206
        },
        "id": "btHL1wXlKUKg",
        "outputId": "2f0ff249-82f6-4d60-973d-bf6271e89711"
      },
      "execution_count": 7,
      "outputs": [
        {
          "output_type": "execute_result",
          "data": {
            "text/plain": [
              "                     6           3    0\n",
              "0  desss-portfolio.com  2023-01-22   65\n",
              "1            desss.com  2023-02-12   86\n",
              "2         zunamelt.com  2022-12-28   40\n",
              "3         zunamelt.com  2022-12-28   40\n",
              "4      trophydeals.com  2023-07-27  252"
            ],
            "text/html": [
              "\n",
              "  <div id=\"df-956decd9-f9df-4ca1-a8ec-c58b4a376c24\">\n",
              "    <div class=\"colab-df-container\">\n",
              "      <div>\n",
              "<style scoped>\n",
              "    .dataframe tbody tr th:only-of-type {\n",
              "        vertical-align: middle;\n",
              "    }\n",
              "\n",
              "    .dataframe tbody tr th {\n",
              "        vertical-align: top;\n",
              "    }\n",
              "\n",
              "    .dataframe thead th {\n",
              "        text-align: right;\n",
              "    }\n",
              "</style>\n",
              "<table border=\"1\" class=\"dataframe\">\n",
              "  <thead>\n",
              "    <tr style=\"text-align: right;\">\n",
              "      <th></th>\n",
              "      <th>6</th>\n",
              "      <th>3</th>\n",
              "      <th>0</th>\n",
              "    </tr>\n",
              "  </thead>\n",
              "  <tbody>\n",
              "    <tr>\n",
              "      <th>0</th>\n",
              "      <td>desss-portfolio.com</td>\n",
              "      <td>2023-01-22</td>\n",
              "      <td>65</td>\n",
              "    </tr>\n",
              "    <tr>\n",
              "      <th>1</th>\n",
              "      <td>desss.com</td>\n",
              "      <td>2023-02-12</td>\n",
              "      <td>86</td>\n",
              "    </tr>\n",
              "    <tr>\n",
              "      <th>2</th>\n",
              "      <td>zunamelt.com</td>\n",
              "      <td>2022-12-28</td>\n",
              "      <td>40</td>\n",
              "    </tr>\n",
              "    <tr>\n",
              "      <th>3</th>\n",
              "      <td>zunamelt.com</td>\n",
              "      <td>2022-12-28</td>\n",
              "      <td>40</td>\n",
              "    </tr>\n",
              "    <tr>\n",
              "      <th>4</th>\n",
              "      <td>trophydeals.com</td>\n",
              "      <td>2023-07-27</td>\n",
              "      <td>252</td>\n",
              "    </tr>\n",
              "  </tbody>\n",
              "</table>\n",
              "</div>\n",
              "      <button class=\"colab-df-convert\" onclick=\"convertToInteractive('df-956decd9-f9df-4ca1-a8ec-c58b4a376c24')\"\n",
              "              title=\"Convert this dataframe to an interactive table.\"\n",
              "              style=\"display:none;\">\n",
              "        \n",
              "  <svg xmlns=\"http://www.w3.org/2000/svg\" height=\"24px\"viewBox=\"0 0 24 24\"\n",
              "       width=\"24px\">\n",
              "    <path d=\"M0 0h24v24H0V0z\" fill=\"none\"/>\n",
              "    <path d=\"M18.56 5.44l.94 2.06.94-2.06 2.06-.94-2.06-.94-.94-2.06-.94 2.06-2.06.94zm-11 1L8.5 8.5l.94-2.06 2.06-.94-2.06-.94L8.5 2.5l-.94 2.06-2.06.94zm10 10l.94 2.06.94-2.06 2.06-.94-2.06-.94-.94-2.06-.94 2.06-2.06.94z\"/><path d=\"M17.41 7.96l-1.37-1.37c-.4-.4-.92-.59-1.43-.59-.52 0-1.04.2-1.43.59L10.3 9.45l-7.72 7.72c-.78.78-.78 2.05 0 2.83L4 21.41c.39.39.9.59 1.41.59.51 0 1.02-.2 1.41-.59l7.78-7.78 2.81-2.81c.8-.78.8-2.07 0-2.86zM5.41 20L4 18.59l7.72-7.72 1.47 1.35L5.41 20z\"/>\n",
              "  </svg>\n",
              "      </button>\n",
              "      \n",
              "  <style>\n",
              "    .colab-df-container {\n",
              "      display:flex;\n",
              "      flex-wrap:wrap;\n",
              "      gap: 12px;\n",
              "    }\n",
              "\n",
              "    .colab-df-convert {\n",
              "      background-color: #E8F0FE;\n",
              "      border: none;\n",
              "      border-radius: 50%;\n",
              "      cursor: pointer;\n",
              "      display: none;\n",
              "      fill: #1967D2;\n",
              "      height: 32px;\n",
              "      padding: 0 0 0 0;\n",
              "      width: 32px;\n",
              "    }\n",
              "\n",
              "    .colab-df-convert:hover {\n",
              "      background-color: #E2EBFA;\n",
              "      box-shadow: 0px 1px 2px rgba(60, 64, 67, 0.3), 0px 1px 3px 1px rgba(60, 64, 67, 0.15);\n",
              "      fill: #174EA6;\n",
              "    }\n",
              "\n",
              "    [theme=dark] .colab-df-convert {\n",
              "      background-color: #3B4455;\n",
              "      fill: #D2E3FC;\n",
              "    }\n",
              "\n",
              "    [theme=dark] .colab-df-convert:hover {\n",
              "      background-color: #434B5C;\n",
              "      box-shadow: 0px 1px 3px 1px rgba(0, 0, 0, 0.15);\n",
              "      filter: drop-shadow(0px 1px 2px rgba(0, 0, 0, 0.3));\n",
              "      fill: #FFFFFF;\n",
              "    }\n",
              "  </style>\n",
              "\n",
              "      <script>\n",
              "        const buttonEl =\n",
              "          document.querySelector('#df-956decd9-f9df-4ca1-a8ec-c58b4a376c24 button.colab-df-convert');\n",
              "        buttonEl.style.display =\n",
              "          google.colab.kernel.accessAllowed ? 'block' : 'none';\n",
              "\n",
              "        async function convertToInteractive(key) {\n",
              "          const element = document.querySelector('#df-956decd9-f9df-4ca1-a8ec-c58b4a376c24');\n",
              "          const dataTable =\n",
              "            await google.colab.kernel.invokeFunction('convertToInteractive',\n",
              "                                                     [key], {});\n",
              "          if (!dataTable) return;\n",
              "\n",
              "          const docLinkHtml = 'Like what you see? Visit the ' +\n",
              "            '<a target=\"_blank\" href=https://colab.research.google.com/notebooks/data_table.ipynb>data table notebook</a>'\n",
              "            + ' to learn more about interactive tables.';\n",
              "          element.innerHTML = '';\n",
              "          dataTable['output_type'] = 'display_data';\n",
              "          await google.colab.output.renderOutput(dataTable, element);\n",
              "          const docLink = document.createElement('div');\n",
              "          docLink.innerHTML = docLinkHtml;\n",
              "          element.appendChild(docLink);\n",
              "        }\n",
              "      </script>\n",
              "    </div>\n",
              "  </div>\n",
              "  "
            ]
          },
          "metadata": {},
          "execution_count": 7
        }
      ]
    },
    {
      "cell_type": "code",
      "source": [
        "[df[('Expiry_date')].str.split(\" \", expand=True).iloc[:,[2,5,8]]]"
      ],
      "metadata": {
        "colab": {
          "base_uri": "https://localhost:8080/"
        },
        "id": "qyvEqwkrKUG-",
        "outputId": "c86177bb-9815-4c0c-d0bd-3ac83112d4d1"
      },
      "execution_count": 8,
      "outputs": [
        {
          "output_type": "execute_result",
          "data": {
            "text/plain": [
              "[                     2           5    8\n",
              " 0  desss-portfolio.com  2023-01-22   65\n",
              " 1            desss.com  2023-02-12   86\n",
              " 2         zunamelt.com  2022-12-28   40\n",
              " 3         zunamelt.com  2022-12-28   40\n",
              " 4      trophydeals.com  2023-07-27  252]"
            ]
          },
          "metadata": {},
          "execution_count": 8
        }
      ]
    },
    {
      "cell_type": "code",
      "source": [],
      "metadata": {
        "id": "kSFnrvv5KUCw"
      },
      "execution_count": null,
      "outputs": []
    }
  ]
}